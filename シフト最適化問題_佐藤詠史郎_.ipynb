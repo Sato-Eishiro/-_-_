{
  "nbformat": 4,
  "nbformat_minor": 0,
  "metadata": {
    "colab": {
      "provenance": [],
      "authorship_tag": "ABX9TyMtn8kfTrVzYfGUcT9E8oTS",
      "include_colab_link": true
    },
    "kernelspec": {
      "name": "python3",
      "display_name": "Python 3"
    },
    "language_info": {
      "name": "python"
    }
  },
  "cells": [
    {
      "cell_type": "markdown",
      "metadata": {
        "id": "view-in-github",
        "colab_type": "text"
      },
      "source": [
        "<a href=\"https://colab.research.google.com/github/Sato-Eishiro/-_-_/blob/main/%E3%82%B7%E3%83%95%E3%83%88%E6%9C%80%E9%81%A9%E5%8C%96%E5%95%8F%E9%A1%8C_%E4%BD%90%E8%97%A4%E8%A9%A0%E5%8F%B2%E9%83%8E_.ipynb\" target=\"_parent\"><img src=\"https://colab.research.google.com/assets/colab-badge.svg\" alt=\"Open In Colab\"/></a>"
      ]
    },
    {
      "cell_type": "code",
      "execution_count": 1,
      "metadata": {
        "id": "3eKzqaVJKn_V",
        "colab": {
          "base_uri": "https://localhost:8080/"
        },
        "outputId": "99a8c368-0d9a-41ac-b8cd-d5c15d64d7a3"
      },
      "outputs": [
        {
          "output_type": "stream",
          "name": "stdout",
          "text": [
            "Collecting pulp\n",
            "  Downloading PuLP-3.0.2-py3-none-any.whl.metadata (6.7 kB)\n",
            "Downloading PuLP-3.0.2-py3-none-any.whl (17.7 MB)\n",
            "\u001b[2K   \u001b[90m━━━━━━━━━━━━━━━━━━━━━━━━━━━━━━━━━━━━━━━━\u001b[0m \u001b[32m17.7/17.7 MB\u001b[0m \u001b[31m23.9 MB/s\u001b[0m eta \u001b[36m0:00:00\u001b[0m\n",
            "\u001b[?25hInstalling collected packages: pulp\n",
            "Successfully installed pulp-3.0.2\n"
          ]
        }
      ],
      "source": [
        "pip install pulp"
      ]
    },
    {
      "cell_type": "code",
      "source": [
        "from pulp import LpProblem, LpVariable, lpSum, LpMinimize, LpBinary\n",
        "import pandas as pd\n",
        "\n",
        "# 従業員リスト\n",
        "employees = [\"A\", \"B\", \"C\", \"D\", \"E\", \"F\", \"G\", \"H\", \"I\", \"J\"]\n",
        "\n",
        "# 28日間（1日目が月曜日）\n",
        "days = list(range(1, 29))\n",
        "shifts = [\"朝\", \"夜\"]\n",
        "\n",
        "# 各従業員の出勤可能回数（週換算）\n",
        "employee_weekly_limits = {\n",
        "    \"A\": 5, \"B\": 4, \"C\": 2, \"D\": 2, \"E\": 3,\n",
        "    \"F\": 4, \"G\": 4, \"H\": 4, \"I\": 4, \"J\": 2\n",
        "}\n",
        "\n",
        "# 月あたりの最大勤務回数（Fさんのみ）\n",
        "max_shifts_f_per_month = 10\n",
        "\n",
        "# 朝夜両方OKな従業員\n",
        "double_shift_allowed = {\"A\", \"B\", \"E\", \"F\", \"H\", \"I\", \"J\"}\n",
        "\n",
        "# 数理最適化モデル\n",
        "prob = LpProblem(\"Shift_Scheduling\", LpMinimize)\n",
        "\n",
        "# 変数: x[従業員, 日, シフト]（1なら割り当て、0ならなし）\n",
        "x = {(i, j, t): LpVariable(f\"x_{i}_{j}_{t}\", cat=LpBinary)\n",
        "     for i in employees for j in days for t in shifts}\n",
        "\n",
        "# 補助変数: 各従業員の希望勤務日数との差の絶対値を表現\n",
        "y = {i: LpVariable(f\"y_{i}\", lowBound=0) for i in employees}\n",
        "\n",
        "# 目的関数: 各従業員の希望日数と実際の日数の差を最小化\n",
        "prob += lpSum(y[i] for i in employees)\n",
        "\n",
        "# 制約条件\n",
        "for j in days:\n",
        "    weekday = (j - 1) % 7  # 0:月, 1:火, ..., 5:土, 6:日\n",
        "    for t in shifts:\n",
        "        if weekday in range(5):  # 平日（月～金）\n",
        "            prob += lpSum(x[i, j, t] for i in employees) == 2\n",
        "        else:  # 土日\n",
        "            prob += lpSum(x[i, j, t] for i in employees) == 3\n",
        "\n",
        "for i in employees:\n",
        "    # 各従業員の週換算での勤務回数制限\n",
        "    max_shifts_per_month = employee_weekly_limits[i] * 4\n",
        "    prob += lpSum(x[i, j, t] for j in days for t in shifts) <= max_shifts_per_month\n",
        "\n",
        "    # 朝と夜両方に入れるのはdouble_shift_allowed のみ\n",
        "    if i not in double_shift_allowed:\n",
        "        for j in days:\n",
        "            prob += lpSum(x[i, j, t] for t in shifts) <= 1  # 朝夜両方のシフトに入れない\n",
        "\n",
        "    # Fさんは月10回まで\n",
        "    if i == \"F\":\n",
        "        prob += lpSum(x[i, j, t] for j in days for t in shifts) <= max_shifts_f_per_month\n",
        "\n",
        "    # 希望勤務日数との差の絶対値を補助変数yで表現\n",
        "    prob += lpSum(x[i, j, t] for j in days for t in shifts) - max_shifts_per_month <= y[i]\n",
        "    prob += max_shifts_per_month - lpSum(x[i, j, t] for j in days for t in shifts) <= y[i]\n",
        "\n",
        "    # 新人（C, D, G）は朝のみ不可\n",
        "    if i in [\"C\", \"D\", \"G\"]:\n",
        "        for j in days:\n",
        "            prob += lpSum(x[i, j, \"朝\"] for t in shifts) == 0\n",
        "\n",
        "# 最適化実行\n",
        "prob.solve()\n",
        "\n",
        "# 実際の勤務回数を計算\n",
        "actual_shifts = {i: 0 for i in employees}\n",
        "for i in employees:\n",
        "    for j in days:\n",
        "        for t in shifts:\n",
        "            if x[i, j, t].value() == 1:\n",
        "                actual_shifts[i] += 1\n",
        "\n",
        "# 希望勤務回数（expected_shifts）は週換算の値から計算\n",
        "expected_shifts = {i: employee_weekly_limits[i] * 4 for i in employees}\n",
        "\n",
        "# 差分を計算\n",
        "deviation = {i: abs(actual_shifts[i] - expected_shifts[i]) for i in employees}\n",
        "\n",
        "# 結果を表示\n",
        "schedule_dict = {f'{i}日目': {'朝': [], '夜': []} for i in range(1, 29)}\n",
        "\n",
        "# 出力結果を格納\n",
        "for i in employees:\n",
        "    for j in days:\n",
        "        for t in shifts:\n",
        "            if x[i, j, t].value() == 1:\n",
        "                schedule_dict[f'{j}日目'][t].append(i)\n",
        "\n",
        "# pandas DataFrameを作成\n",
        "df_schedule = pd.DataFrame(schedule_dict)\n",
        "\n",
        "# 表示\n",
        "print(df_schedule)"
      ],
      "metadata": {
        "colab": {
          "base_uri": "https://localhost:8080/"
        },
        "id": "PWp15V9xK8hp",
        "outputId": "0eeda769-7bf6-4d74-9820-b9a15ec49d09"
      },
      "execution_count": 5,
      "outputs": [
        {
          "output_type": "stream",
          "name": "stdout",
          "text": [
            "      1日目     2日目     3日目     4日目     5日目        6日目        7日目     8日目  \\\n",
            "朝  [A, F]  [A, H]  [B, H]  [F, I]  [H, J]  [B, H, I]  [A, E, I]  [A, B]   \n",
            "夜  [A, G]  [F, I]  [A, D]  [A, E]  [D, G]  [E, G, J]  [A, D, G]  [B, G]   \n",
            "\n",
            "      9日目    10日目  ...    19日目       20日目       21日目    22日目    23日目    24日目  \\\n",
            "朝  [A, F]  [H, I]  ...  [B, F]  [B, E, J]  [A, I, J]  [B, F]  [H, I]  [B, E]   \n",
            "夜  [A, G]  [B, F]  ...  [C, I]  [C, G, I]  [C, D, I]  [C, D]  [B, H]  [E, G]   \n",
            "\n",
            "     25日目    26日目       27日目       28日目  \n",
            "朝  [H, I]  [E, J]  [E, I, J]  [A, E, I]  \n",
            "夜  [B, G]  [A, D]  [A, B, G]  [C, G, H]  \n",
            "\n",
            "[2 rows x 28 columns]\n"
          ]
        }
      ]
    },
    {
      "cell_type": "code",
      "source": [
        "# 評価結果の出力\n",
        "print(\"=== 各従業員の勤務回数 ===\")\n",
        "for i in employees:\n",
        "    print(f\"{i}: 実際 {actual_shifts[i]} 回 / 希望 {expected_shifts[i]} 回 (差: {deviation[i]})\")\n",
        "\n",
        "# Fさんの勤務回数チェック\n",
        "if actual_shifts[\"F\"] > max_shifts_f_per_month:\n",
        "    print(f\"⚠️ Fさんの勤務回数が制限 ({max_shifts_f_per_month}回) を超えています！\")\n",
        "else:\n",
        "    print(f\"✅ Fさんの勤務回数: {actual_shifts['F']}回（制限内）\")\n",
        "\n",
        "# シフトの偏りチェック（朝と夜のバランス）\n",
        "shift_distribution = {\"朝\": 0, \"夜\": 0}\n",
        "for j in days:\n",
        "    for t in shifts:\n",
        "        shift_distribution[t] += sum(x[i, j, t].value() for i in employees)\n",
        "\n",
        "print(\"\\n=== シフトの総数 ===\")\n",
        "print(f\"朝のシフト: {shift_distribution['朝']} 回\")\n",
        "print(f\"夜のシフト: {shift_distribution['夜']} 回\")\n",
        "\n",
        "c_morning_shifts = sum(x[\"C\", j, \"朝\"].value() for j in days)\n",
        "d_morning_shifts = sum(x[\"D\", j, \"朝\"].value() for j in days)\n",
        "g_morning_shifts = sum(x[\"G\", j, \"朝\"].value() for j in days)\n",
        "\n",
        "if c_morning_shifts == 0:\n",
        "    print(\"✅ Cさんは朝シフトに入っていません（希望通り）\")\n",
        "else:\n",
        "    print(f\"⚠️ Cさんが朝に {c_morning_shifts} 回シフトに入っています！（希望と違う）\")\n",
        "\n",
        "if d_morning_shifts == 0:\n",
        "    print(\"✅ Dさんは朝シフトに入っていません（希望通り）\")\n",
        "else:\n",
        "    print(f\"⚠️ Dさんが朝に {d_morning_shifts} 回シフトに入っています！（希望と違う）\")\n",
        "\n",
        "if g_morning_shifts == 0:\n",
        "    print(\"✅ Gさんは朝シフトに入っていません（希望通り）\")\n",
        "else:\n",
        "    print(f\"⚠️ Gさんが朝に {g_morning_shifts} 回シフトに入っています！（希望と違う）\")"
      ],
      "metadata": {
        "colab": {
          "base_uri": "https://localhost:8080/"
        },
        "id": "gicTn5DFLXDW",
        "outputId": "f56007e6-e0b4-446a-d049-c07a32514bf8"
      },
      "execution_count": 6,
      "outputs": [
        {
          "output_type": "stream",
          "name": "stdout",
          "text": [
            "=== 各従業員の勤務回数 ===\n",
            "A: 実際 20 回 / 希望 20 回 (差: 0)\n",
            "B: 実際 16 回 / 希望 16 回 (差: 0)\n",
            "C: 実際 6 回 / 希望 8 回 (差: 2)\n",
            "D: 実際 8 回 / 希望 8 回 (差: 0)\n",
            "E: 実際 12 回 / 希望 12 回 (差: 0)\n",
            "F: 実際 10 回 / 希望 16 回 (差: 6)\n",
            "G: 実際 16 回 / 希望 16 回 (差: 0)\n",
            "H: 実際 16 回 / 希望 16 回 (差: 0)\n",
            "I: 実際 16 回 / 希望 16 回 (差: 0)\n",
            "J: 実際 8 回 / 希望 8 回 (差: 0)\n",
            "✅ Fさんの勤務回数: 10回（制限内）\n",
            "\n",
            "=== シフトの総数 ===\n",
            "朝のシフト: 64.0 回\n",
            "夜のシフト: 64.0 回\n",
            "✅ Cさんは朝シフトに入っていません（希望通り）\n",
            "✅ Dさんは朝シフトに入っていません（希望通り）\n",
            "✅ Gさんは朝シフトに入っていません（希望通り）\n"
          ]
        }
      ]
    },
    {
      "cell_type": "code",
      "source": [],
      "metadata": {
        "id": "0naPkf-tLgOJ"
      },
      "execution_count": null,
      "outputs": []
    }
  ]
}